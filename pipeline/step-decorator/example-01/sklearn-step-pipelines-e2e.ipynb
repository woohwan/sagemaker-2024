{
 "cells": [
  {
   "cell_type": "code",
   "execution_count": 49,
   "metadata": {},
   "outputs": [],
   "source": [
    "import os\n",
    "\n",
    "# Set  path  to config file\n",
    "os.environ[\"SAGEMAKER_USER_CONFIG_OVERRIDE\"] = os.getcwd()"
   ]
  },
  {
   "cell_type": "markdown",
   "metadata": {},
   "source": [
    "After this we instantiate a SageMaker Session for our Notebook and retrieve metadata such as the Execution Role and Region."
   ]
  },
  {
   "cell_type": "code",
   "execution_count": 50,
   "metadata": {},
   "outputs": [
    {
     "name": "stderr",
     "output_type": "stream",
     "text": [
      "INFO:botocore.credentials:Found credentials in shared credentials file: ~/.aws/credentials\n"
     ]
    },
    {
     "name": "stderr",
     "output_type": "stream",
     "text": [
      "INFO:botocore.credentials:Found credentials in shared credentials file: ~/.aws/credentials\n"
     ]
    }
   ],
   "source": [
    "import sagemaker\n",
    "from sagemaker.workflow.function_step import step\n",
    "\n",
    "sagemaker_session = sagemaker.session.Session()\n",
    "role = sagemaker.get_execution_role()\n",
    "bucket = sagemaker_session.default_bucket()\n",
    "region = sagemaker_session.boto_region_name"
   ]
  },
  {
   "cell_type": "code",
   "execution_count": 51,
   "metadata": {},
   "outputs": [],
   "source": [
    "# Parameter definition\n",
    "from sagemaker.workflow.parameters import ParameterString\n",
    "instance_type = ParameterString(name=\"TrainInstanceType\", default_value=\"ml.c5.2xlarge\")"
   ]
  },
  {
   "cell_type": "markdown",
   "metadata": {},
   "source": [
    "#### Step Orchestration"
   ]
  },
  {
   "cell_type": "code",
   "execution_count": 52,
   "metadata": {},
   "outputs": [],
   "source": [
    "# step one\n",
    "@step(\n",
    "  name=\"preprocess\",\n",
    "  instance_type=instance_type,\n",
    "  keep_alive_period_in_seconds=600\n",
    ")\n",
    "def create_data() -> tuple:\n",
    "  import numpy as np\n",
    "  np.random.seed(0)\n",
    "  X = np.random.rand(100, 1)\n",
    "  y = 2*X + 1 + 0.1*np.random.randn(100,1)\n",
    "  data = (X, y)\n",
    "  return data"
   ]
  },
  {
   "cell_type": "code",
   "execution_count": 53,
   "metadata": {},
   "outputs": [],
   "source": [
    "# step two\n",
    "@step(\n",
    "  name=\"training\",\n",
    "  instance_type=instance_type,\n",
    "  keep_alive_period_in_seconds=600\n",
    ")\n",
    "def train_model(data: tuple):\n",
    "  import joblib\n",
    "  from sklearn.model_selection import train_test_split\n",
    "  from sklearn.linear_model import LinearRegression\n",
    "  import boto3\n",
    "\n",
    "  # use boto3 to work with S3\n",
    "  s3 = boto3.client(\"s3\")\n",
    "\n",
    "  # unique bucket name\n",
    "  bucket_name = \"sagemaker-pipelie-step-richard-0304\"\n",
    "  # create s3 bucket name\n",
    "  s3.create_bucket(Bucket=bucket_name)\n",
    "\n",
    "  # unpack data\n",
    "  X = data[0]\n",
    "  y = data[1]\n",
    "  # Split the data into training and testing sets\n",
    "  X_train, X_test, y_train, y_test = train_test_split(X, y, test_size=0.2, random_state=42)\n",
    "  # Create a Linear Regression Model\n",
    "  model = LinearRegression()\n",
    "\n",
    "  # Train the model on the training data\n",
    "  model.fit(X_train, y_train)\n",
    "\n",
    "  # Serialize trained model for inference\n",
    "  model_filename = \"model.joblib\"\n",
    "  joblib.dump(model, model_filename)\n",
    "\n",
    "  # Upload model artifacts to s3\n",
    "  s3_file_name = \"model-artifacts/model.joblib\" # key to store model artifacts\n",
    "\n",
    "  # https://boto3.amazonaws.com/v1/documentation/api/latest/reference/services/s3/client/upload_file.html\n",
    "  # S3.Client.upload_file(Filename, Bucket, Key, ExtraArgs=None, Callback=None, Config=None)\n",
    "  s3.upload_file(model_filename, bucket_name, s3_file_name)\n",
    "  artifacts = (model_filename, bucket_name, s3_file_name, X_test, y_test)\n",
    "  return artifacts\n"
   ]
  },
  {
   "cell_type": "code",
   "execution_count": 54,
   "metadata": {},
   "outputs": [],
   "source": [
    "# step three\n",
    "@step(\n",
    "  name=\"inference_evaluation\",\n",
    "  instance_type=instance_type,\n",
    "  keep_alive_period_in_seconds=600\n",
    ")\n",
    "def model_inference(artifacts: tuple) ->float:\n",
    "  import joblib\n",
    "  from sklearn.metrics import mean_squared_error\n",
    "  import numpy as np\n",
    "  import boto3\n",
    "\n",
    "  s3 = boto3.client(\"s3\")\n",
    "\n",
    "  # load up arifacts from previous step\n",
    "  model_filename = artifacts[0]\n",
    "  bucket_name = artifacts[1]\n",
    "  s3_file_name = artifacts[2]\n",
    "  X_test = artifacts[3]\n",
    "  y_test = artifacts[4]\n",
    "\n",
    "  # download model.joblib\n",
    "  # S3.Client.download_file(Bucket, Key, Filename, ExtraArgs=None, Callback=None, Config=None)\n",
    "  s3.download_file(bucket_name, s3_file_name, model_filename)\n",
    "\n",
    "  # model loading + inference\n",
    "  serialized_model = joblib.load(model_filename)\n",
    "  preds = serialized_model(X_test)\n",
    "\n",
    "  # evaluation\n",
    "  mse = mean_squared_error(y_test, preds)\n",
    "  rmse = float(np.sqrt(mse))\n",
    "\n",
    "  return rmse"
   ]
  },
  {
   "cell_type": "markdown",
   "metadata": {},
   "source": [
    "#### Pipeline Orchestration and Execution"
   ]
  },
  {
   "cell_type": "code",
   "execution_count": 55,
   "metadata": {},
   "outputs": [
    {
     "name": "stderr",
     "output_type": "stream",
     "text": [
      "INFO:botocore.credentials:Found credentials in shared credentials file: ~/.aws/credentials\n"
     ]
    }
   ],
   "source": [
    "# stitch together pipeline\n",
    "from sagemaker.workflow.pipeline import Pipeline\n",
    "\n",
    "data = create_data()\n",
    "artifacts = train_model(data)\n",
    "rmse = model_inference(artifacts)\n",
    "\n",
    "pipeline = Pipeline(\n",
    "  name=\"sklearn-pipeline\",\n",
    "  parameters=[\n",
    "    instance_type\n",
    "  ],\n",
    "  steps=[\n",
    "    rmse,\n",
    "  ],\n",
    ")"
   ]
  },
  {
   "cell_type": "code",
   "execution_count": 56,
   "metadata": {},
   "outputs": [
    {
     "name": "stdout",
     "output_type": "stream",
     "text": [
      "sagemaker.config INFO - Applied value from config key = SageMaker.PythonSDK.Modules.RemoteFunction.Dependencies\n",
      "sagemaker.config INFO - Applied value from config key = SageMaker.PythonSDK.Modules.RemoteFunction.IncludeLocalWorkDir\n",
      "sagemaker.config INFO - Applied value from config key = SageMaker.PythonSDK.Modules.RemoteFunction.CustomFileFilter.IgnoreNamePatterns\n",
      "sagemaker.config INFO - Applied value from config key = SageMaker.PythonSDK.Modules.RemoteFunction.RoleArn\n"
     ]
    },
    {
     "name": "stderr",
     "output_type": "stream",
     "text": [
      "2024-03-04 07:49:56,286 sagemaker.remote_function INFO     Uploading serialized function code to s3://sagemaker-ap-northeast-2-532805286864/sklearn-pipeline/inference_evaluation/2024-03-04-07-49-54-308/function\n",
      "2024-03-04 07:49:56,393 sagemaker.remote_function INFO     Uploading serialized function arguments to s3://sagemaker-ap-northeast-2-532805286864/sklearn-pipeline/inference_evaluation/2024-03-04-07-49-54-308/arguments\n",
      "2024-03-04 07:49:56,725 sagemaker.remote_function INFO     Copied dependencies file at './requirements.txt' to '/tmp/tmptjsvn2je/requirements.txt'\n",
      "2024-03-04 07:49:56,768 sagemaker.remote_function INFO     Successfully uploaded dependencies and pre execution scripts to 's3://sagemaker-ap-northeast-2-532805286864/sklearn-pipeline/inference_evaluation/2024-03-04-07-49-54-308/pre_exec_script_and_dependencies'\n",
      "2024-03-04 07:49:56,771 sagemaker.remote_function INFO     Copied user workspace to '/tmp/tmpjiiddkbw/temp_workspace/sagemaker_remote_function_workspace'\n",
      "2024-03-04 07:49:56,808 sagemaker.remote_function INFO     Successfully created workdir archive at '/tmp/tmpjiiddkbw/workspace.zip'\n",
      "2024-03-04 07:49:56,898 sagemaker.remote_function INFO     Successfully uploaded workdir to 's3://sagemaker-ap-northeast-2-532805286864/sklearn-pipeline/sm_rf_user_ws/2024-03-04-07-49-54-308/workspace.zip'\n",
      "WARNING:sagemaker.workflow.utilities:Popping out 'TrainingJobName' from the pipeline definition by default since it will be overridden at pipeline execution time. Please utilize the PipelineDefinitionConfig to persist this field in the pipeline definition if desired.\n"
     ]
    },
    {
     "name": "stdout",
     "output_type": "stream",
     "text": [
      "sagemaker.config INFO - Applied value from config key = SageMaker.PythonSDK.Modules.RemoteFunction.Dependencies\n",
      "sagemaker.config INFO - Applied value from config key = SageMaker.PythonSDK.Modules.RemoteFunction.IncludeLocalWorkDir\n",
      "sagemaker.config INFO - Applied value from config key = SageMaker.PythonSDK.Modules.RemoteFunction.CustomFileFilter.IgnoreNamePatterns\n",
      "sagemaker.config INFO - Applied value from config key = SageMaker.PythonSDK.Modules.RemoteFunction.RoleArn\n"
     ]
    },
    {
     "name": "stderr",
     "output_type": "stream",
     "text": [
      "2024-03-04 07:49:58,346 sagemaker.remote_function INFO     Uploading serialized function code to s3://sagemaker-ap-northeast-2-532805286864/sklearn-pipeline/training/2024-03-04-07-49-54-308/function\n",
      "2024-03-04 07:49:58,445 sagemaker.remote_function INFO     Uploading serialized function arguments to s3://sagemaker-ap-northeast-2-532805286864/sklearn-pipeline/training/2024-03-04-07-49-54-308/arguments\n",
      "2024-03-04 07:49:58,531 sagemaker.remote_function INFO     Copied dependencies file at './requirements.txt' to '/tmp/tmpst50z2tt/requirements.txt'\n",
      "2024-03-04 07:49:58,573 sagemaker.remote_function INFO     Successfully uploaded dependencies and pre execution scripts to 's3://sagemaker-ap-northeast-2-532805286864/sklearn-pipeline/training/2024-03-04-07-49-54-308/pre_exec_script_and_dependencies'\n",
      "WARNING:sagemaker.workflow.utilities:Popping out 'TrainingJobName' from the pipeline definition by default since it will be overridden at pipeline execution time. Please utilize the PipelineDefinitionConfig to persist this field in the pipeline definition if desired.\n"
     ]
    },
    {
     "name": "stdout",
     "output_type": "stream",
     "text": [
      "sagemaker.config INFO - Applied value from config key = SageMaker.PythonSDK.Modules.RemoteFunction.Dependencies\n",
      "sagemaker.config INFO - Applied value from config key = SageMaker.PythonSDK.Modules.RemoteFunction.IncludeLocalWorkDir\n",
      "sagemaker.config INFO - Applied value from config key = SageMaker.PythonSDK.Modules.RemoteFunction.CustomFileFilter.IgnoreNamePatterns\n",
      "sagemaker.config INFO - Applied value from config key = SageMaker.PythonSDK.Modules.RemoteFunction.RoleArn\n"
     ]
    },
    {
     "name": "stderr",
     "output_type": "stream",
     "text": [
      "2024-03-04 07:50:00,036 sagemaker.remote_function INFO     Uploading serialized function code to s3://sagemaker-ap-northeast-2-532805286864/sklearn-pipeline/preprocess/2024-03-04-07-49-54-308/function\n",
      "2024-03-04 07:50:00,136 sagemaker.remote_function INFO     Uploading serialized function arguments to s3://sagemaker-ap-northeast-2-532805286864/sklearn-pipeline/preprocess/2024-03-04-07-49-54-308/arguments\n",
      "2024-03-04 07:50:00,225 sagemaker.remote_function INFO     Copied dependencies file at './requirements.txt' to '/tmp/tmpnqed4sz4/requirements.txt'\n",
      "2024-03-04 07:50:00,277 sagemaker.remote_function INFO     Successfully uploaded dependencies and pre execution scripts to 's3://sagemaker-ap-northeast-2-532805286864/sklearn-pipeline/preprocess/2024-03-04-07-49-54-308/pre_exec_script_and_dependencies'\n",
      "WARNING:sagemaker.workflow.utilities:Popping out 'TrainingJobName' from the pipeline definition by default since it will be overridden at pipeline execution time. Please utilize the PipelineDefinitionConfig to persist this field in the pipeline definition if desired.\n",
      "2024-03-04 07:50:00,668 sagemaker.remote_function INFO     Uploading serialized function code to s3://sagemaker-ap-northeast-2-532805286864/sklearn-pipeline/inference_evaluation/2024-03-04-07-50-00-667/function\n",
      "2024-03-04 07:50:00,775 sagemaker.remote_function INFO     Uploading serialized function arguments to s3://sagemaker-ap-northeast-2-532805286864/sklearn-pipeline/inference_evaluation/2024-03-04-07-50-00-667/arguments\n",
      "2024-03-04 07:50:01,072 sagemaker.remote_function INFO     Copied dependencies file at './requirements.txt' to '/tmp/tmp2d0tde2s/requirements.txt'\n",
      "2024-03-04 07:50:01,117 sagemaker.remote_function INFO     Successfully uploaded dependencies and pre execution scripts to 's3://sagemaker-ap-northeast-2-532805286864/sklearn-pipeline/inference_evaluation/2024-03-04-07-50-00-667/pre_exec_script_and_dependencies'\n",
      "2024-03-04 07:50:01,122 sagemaker.remote_function INFO     Copied user workspace to '/tmp/tmp2zob7qmm/temp_workspace/sagemaker_remote_function_workspace'\n",
      "2024-03-04 07:50:01,155 sagemaker.remote_function INFO     Successfully created workdir archive at '/tmp/tmp2zob7qmm/workspace.zip'\n",
      "2024-03-04 07:50:01,285 sagemaker.remote_function INFO     Successfully uploaded workdir to 's3://sagemaker-ap-northeast-2-532805286864/sklearn-pipeline/sm_rf_user_ws/2024-03-04-07-50-00-667/workspace.zip'\n",
      "WARNING:sagemaker.workflow.utilities:Popping out 'TrainingJobName' from the pipeline definition by default since it will be overridden at pipeline execution time. Please utilize the PipelineDefinitionConfig to persist this field in the pipeline definition if desired.\n",
      "2024-03-04 07:50:01,288 sagemaker.remote_function INFO     Uploading serialized function code to s3://sagemaker-ap-northeast-2-532805286864/sklearn-pipeline/training/2024-03-04-07-50-00-667/function\n",
      "2024-03-04 07:50:01,386 sagemaker.remote_function INFO     Uploading serialized function arguments to s3://sagemaker-ap-northeast-2-532805286864/sklearn-pipeline/training/2024-03-04-07-50-00-667/arguments\n",
      "2024-03-04 07:50:01,488 sagemaker.remote_function INFO     Copied dependencies file at './requirements.txt' to '/tmp/tmpmqcrd81v/requirements.txt'\n",
      "2024-03-04 07:50:01,529 sagemaker.remote_function INFO     Successfully uploaded dependencies and pre execution scripts to 's3://sagemaker-ap-northeast-2-532805286864/sklearn-pipeline/training/2024-03-04-07-50-00-667/pre_exec_script_and_dependencies'\n",
      "WARNING:sagemaker.workflow.utilities:Popping out 'TrainingJobName' from the pipeline definition by default since it will be overridden at pipeline execution time. Please utilize the PipelineDefinitionConfig to persist this field in the pipeline definition if desired.\n",
      "2024-03-04 07:50:01,531 sagemaker.remote_function INFO     Uploading serialized function code to s3://sagemaker-ap-northeast-2-532805286864/sklearn-pipeline/preprocess/2024-03-04-07-50-00-667/function\n",
      "2024-03-04 07:50:01,627 sagemaker.remote_function INFO     Uploading serialized function arguments to s3://sagemaker-ap-northeast-2-532805286864/sklearn-pipeline/preprocess/2024-03-04-07-50-00-667/arguments\n",
      "2024-03-04 07:50:01,725 sagemaker.remote_function INFO     Copied dependencies file at './requirements.txt' to '/tmp/tmp8u30wwxs/requirements.txt'\n",
      "2024-03-04 07:50:01,771 sagemaker.remote_function INFO     Successfully uploaded dependencies and pre execution scripts to 's3://sagemaker-ap-northeast-2-532805286864/sklearn-pipeline/preprocess/2024-03-04-07-50-00-667/pre_exec_script_and_dependencies'\n",
      "WARNING:sagemaker.workflow.utilities:Popping out 'TrainingJobName' from the pipeline definition by default since it will be overridden at pipeline execution time. Please utilize the PipelineDefinitionConfig to persist this field in the pipeline definition if desired.\n"
     ]
    },
    {
     "data": {
      "text/plain": [
       "{'PipelineArn': 'arn:aws:sagemaker:ap-northeast-2:532805286864:pipeline/sklearn-pipeline',\n",
       " 'PipelineExecutionArn': 'arn:aws:sagemaker:ap-northeast-2:532805286864:pipeline/sklearn-pipeline/execution/n75gdf6a5ye7',\n",
       " 'PipelineExecutionDisplayName': 'execution-1709538602034',\n",
       " 'PipelineExecutionStatus': 'Executing',\n",
       " 'CreationTime': datetime.datetime(2024, 3, 4, 16, 50, 1, 963000, tzinfo=tzlocal()),\n",
       " 'LastModifiedTime': datetime.datetime(2024, 3, 4, 16, 50, 1, 963000, tzinfo=tzlocal()),\n",
       " 'CreatedBy': {},\n",
       " 'LastModifiedBy': {},\n",
       " 'ResponseMetadata': {'RequestId': '4abfb7f4-c28c-4e71-ad9c-3a9819f7161b',\n",
       "  'HTTPStatusCode': 200,\n",
       "  'HTTPHeaders': {'x-amzn-requestid': '4abfb7f4-c28c-4e71-ad9c-3a9819f7161b',\n",
       "   'content-type': 'application/x-amz-json-1.1',\n",
       "   'content-length': '407',\n",
       "   'date': 'Mon, 04 Mar 2024 07:50:02 GMT'},\n",
       "  'RetryAttempts': 0}}"
      ]
     },
     "execution_count": 56,
     "metadata": {},
     "output_type": "execute_result"
    }
   ],
   "source": [
    "pipeline.upsert(role_arn=role)\n",
    "execution = pipeline.start()\n",
    "execution.describe()\n",
    "# execution.wait()"
   ]
  },
  {
   "cell_type": "code",
   "execution_count": 62,
   "metadata": {},
   "outputs": [
    {
     "data": {
      "text/plain": [
       "[{'StepName': 'preprocess',\n",
       "  'StartTime': datetime.datetime(2024, 3, 4, 16, 50, 3, 384000, tzinfo=tzlocal()),\n",
       "  'StepStatus': 'Executing',\n",
       "  'Metadata': {'TrainingJob': {'Arn': 'arn:aws:sagemaker:ap-northeast-2:532805286864:training-job/pipelines-n75gdf6a5ye7-preprocess-DV4hOQUU91'}},\n",
       "  'AttemptCount': 1}]"
      ]
     },
     "execution_count": 62,
     "metadata": {},
     "output_type": "execute_result"
    }
   ],
   "source": [
    "execution.list_steps()"
   ]
  },
  {
   "cell_type": "code",
   "execution_count": null,
   "metadata": {},
   "outputs": [],
   "source": []
  }
 ],
 "metadata": {
  "kernelspec": {
   "display_name": "dev",
   "language": "python",
   "name": "python3"
  },
  "language_info": {
   "codemirror_mode": {
    "name": "ipython",
    "version": 3
   },
   "file_extension": ".py",
   "mimetype": "text/x-python",
   "name": "python",
   "nbconvert_exporter": "python",
   "pygments_lexer": "ipython3",
   "version": "3.10.13"
  }
 },
 "nbformat": 4,
 "nbformat_minor": 2
}
