{
 "cells": [
  {
   "cell_type": "code",
   "execution_count": 10,
   "metadata": {},
   "outputs": [],
   "source": [
    "import os\n",
    "\n",
    "# Set  path  to config file\n",
    "os.environ[\"SAGEMAKER_USER_CONFIG_OVERRIDE\"] = os.getcwd()"
   ]
  },
  {
   "cell_type": "markdown",
   "metadata": {},
   "source": [
    "After this we instantiate a SageMaker Session for our Notebook and retrieve metadata such as the Execution Role and Region."
   ]
  },
  {
   "cell_type": "code",
   "execution_count": 11,
   "metadata": {},
   "outputs": [
    {
     "ename": "AttributeError",
     "evalue": "'Session' object has no attribute 'get_execution_role'",
     "output_type": "error",
     "traceback": [
      "\u001b[0;31m---------------------------------------------------------------------------\u001b[0m",
      "\u001b[0;31mAttributeError\u001b[0m                            Traceback (most recent call last)",
      "Cell \u001b[0;32mIn[11], line 5\u001b[0m\n\u001b[1;32m      2\u001b[0m \u001b[38;5;28;01mfrom\u001b[39;00m \u001b[38;5;21;01msagemaker\u001b[39;00m\u001b[38;5;21;01m.\u001b[39;00m\u001b[38;5;21;01mworkflow\u001b[39;00m\u001b[38;5;21;01m.\u001b[39;00m\u001b[38;5;21;01mfunction_step\u001b[39;00m \u001b[38;5;28;01mimport\u001b[39;00m step\n\u001b[1;32m      4\u001b[0m sagemaker_session \u001b[38;5;241m=\u001b[39m sagemaker\u001b[38;5;241m.\u001b[39msession\u001b[38;5;241m.\u001b[39mSession()\n\u001b[0;32m----> 5\u001b[0m role \u001b[38;5;241m=\u001b[39m \u001b[43msagemaker_session\u001b[49m\u001b[38;5;241;43m.\u001b[39;49m\u001b[43mget_execution_role\u001b[49m()\n\u001b[1;32m      6\u001b[0m bucket \u001b[38;5;241m=\u001b[39m sagemaker_session\u001b[38;5;241m.\u001b[39mdefault_bucket()\n\u001b[1;32m      7\u001b[0m region \u001b[38;5;241m=\u001b[39m sagemaker_session\u001b[38;5;241m.\u001b[39mboto_region_name\n",
      "\u001b[0;31mAttributeError\u001b[0m: 'Session' object has no attribute 'get_execution_role'"
     ]
    }
   ],
   "source": [
    "import sagemaker\n",
    "from sagemaker.workflow.function_step import step\n",
    "\n",
    "sagemaker_session = sagemaker.session.Session()\n",
    "role = sagemaker.get_execution_role()\n",
    "bucket = sagemaker_session.default_bucket()\n",
    "region = sagemaker_session.boto_region_name"
   ]
  },
  {
   "cell_type": "code",
   "execution_count": null,
   "metadata": {},
   "outputs": [],
   "source": [
    "# Parameter definition\n",
    "from sagemaker.workflow.parameters import ParameterString\n",
    "instance_type = ParameterString(name=\"TrainInstanceType\", default_value=\"ml.c5.2xlarge\")"
   ]
  },
  {
   "cell_type": "markdown",
   "metadata": {},
   "source": [
    "#### Step Orchestration"
   ]
  },
  {
   "cell_type": "code",
   "execution_count": null,
   "metadata": {},
   "outputs": [],
   "source": [
    "# step one\n",
    "@step(\n",
    "  name=\"preprocess\",\n",
    "  instance_type=instance_type,\n",
    "  keep_alive_period_in_seconds=600\n",
    ")\n",
    "def create_data() -> tuple:\n",
    "  import numpy as np\n",
    "  np.random.seed(0)\n",
    "  X = np.random.rand(100, 1)\n",
    "  y = 2*X + 1 + 0.1*np.random.randn(100,1)\n",
    "  data = (X, y)\n",
    "  return data"
   ]
  },
  {
   "cell_type": "code",
   "execution_count": null,
   "metadata": {},
   "outputs": [],
   "source": [
    "# step two\n",
    "@step(\n",
    "  name=\"training\",\n",
    "  instance_type=instance_type,\n",
    "  keep_alive_period_in_seconds=600\n",
    ")\n",
    "def train_model(data: tuple):\n",
    "  import joblib\n",
    "  from sklearn.model_selection import train_test_split\n",
    "  from sklearn.linear_model import LinearRegression\n",
    "  import boto3\n",
    "\n",
    "  # use boto3 to work with S3\n",
    "  s3 = boto3.client(\"s3\")\n",
    "\n",
    "  # unique bucket name\n",
    "  bucket_name = \"sagemaker-pipelie-step-richard-0304\"\n",
    "  # create s3 bucket name\n",
    "  s3.create_bucket(Bucket=bucket_name)\n",
    "\n",
    "  # unpack data\n",
    "  X = data[0]\n",
    "  y = data[1]\n",
    "  # Split the data into training and testing sets\n",
    "  X_train, X_test, y_train, y_test = train_test_split(X, y, test_size=0.2, random_state=42)\n",
    "  # Create a Linear Regression Model\n",
    "  model = LinearRegression()\n",
    "\n",
    "  # Train the model on the training data\n",
    "  model.fit(X_train, y_train)\n",
    "\n",
    "  # Serialize trained model for inference\n",
    "  model_filename = \"model.joblib\"\n",
    "  joblib.dump(model, model_filename)\n",
    "\n",
    "  # Upload model artifacts to s3\n",
    "  s3_file_name = \"model-artifacts/model.joblib\" # key to store model artifacts\n",
    "\n",
    "  # https://boto3.amazonaws.com/v1/documentation/api/latest/reference/services/s3/client/upload_file.html\n",
    "  # S3.Client.upload_file(Filename, Bucket, Key, ExtraArgs=None, Callback=None, Config=None)\n",
    "  s3.upload_file(model_filename, bucket_name, s3_file_name)\n",
    "  artifacts = (model_filename, bucket_name, s3_file_name, X_test, y_test)\n",
    "  return artifacts\n"
   ]
  },
  {
   "cell_type": "code",
   "execution_count": null,
   "metadata": {},
   "outputs": [],
   "source": [
    "# step three\n",
    "@step(\n",
    "  name=\"inference_evaluation\",\n",
    "  instance_type=instance_type,\n",
    "  keep_alive_period_in_seconds=600\n",
    ")\n",
    "def model_inference(artifacts: tuple) ->float:\n",
    "  import joblib\n",
    "  from sklearn.metrics import mean_squared_error\n",
    "  import numpy as np\n",
    "  import boto3\n",
    "\n",
    "  s3 = boto3.client(\"s3\")\n",
    "\n",
    "  # load up arifacts from previous step\n",
    "  model_filename = artifacts[0]\n",
    "  bucket_name = artifacts[1]\n",
    "  s3_file_name = artifacts[2]\n",
    "  X_test = artifacts[3]\n",
    "  y_test = artifacts[4]\n",
    "\n",
    "  # download model.joblib\n",
    "  # S3.Client.download_file(Bucket, Key, Filename, ExtraArgs=None, Callback=None, Config=None)\n",
    "  s3.download_file(bucket_name, s3_file_name, model_filename)\n",
    "\n",
    "  # model loading + inference\n",
    "  serialized_model = joblib.load(model_filename)\n",
    "  preds = serialized_model(X_test)\n",
    "\n",
    "  # evaluation\n",
    "  mse = mean_squared_error(y_test, preds)\n",
    "  rmse = float(np.sqrt(mse))\n",
    "\n",
    "  return rmse"
   ]
  },
  {
   "cell_type": "markdown",
   "metadata": {},
   "source": [
    "#### Pipeline Orchestration and Execution"
   ]
  },
  {
   "cell_type": "code",
   "execution_count": null,
   "metadata": {},
   "outputs": [],
   "source": [
    "# stitch together pipeline\n",
    "from sagemaker.workflow.pipeline import Pipeline\n",
    "\n",
    "data = create_data()\n",
    "artifacts = train_model(data)\n",
    "rmse = model_inference(artifacts)\n",
    "\n",
    "pipeline = Pipeline(\n",
    "  name=\"sklearn-pipeline\",\n",
    "  parameters=[\n",
    "    instance_type\n",
    "  ],\n",
    "  steps=[\n",
    "    rmse,\n",
    "  ],\n",
    ")"
   ]
  },
  {
   "cell_type": "code",
   "execution_count": null,
   "metadata": {},
   "outputs": [],
   "source": [
    "pipeline.upsert(role_arn=role)\n",
    "execution = pipeline.start()\n",
    "execution.describe()\n",
    "# execution.wait()"
   ]
  },
  {
   "cell_type": "code",
   "execution_count": null,
   "metadata": {},
   "outputs": [],
   "source": [
    "execution.list_steps()"
   ]
  },
  {
   "cell_type": "code",
   "execution_count": null,
   "metadata": {},
   "outputs": [],
   "source": []
  }
 ],
 "metadata": {
  "kernelspec": {
   "display_name": "dev",
   "language": "python",
   "name": "python3"
  },
  "language_info": {
   "codemirror_mode": {
    "name": "ipython",
    "version": 3
   },
   "file_extension": ".py",
   "mimetype": "text/x-python",
   "name": "python",
   "nbconvert_exporter": "python",
   "pygments_lexer": "ipython3",
   "version": "3.10.13"
  }
 },
 "nbformat": 4,
 "nbformat_minor": 2
}
