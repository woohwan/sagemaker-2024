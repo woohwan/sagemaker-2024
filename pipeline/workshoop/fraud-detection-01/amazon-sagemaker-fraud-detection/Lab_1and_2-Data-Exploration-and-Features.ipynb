{
 "cells": [
  {
   "cell_type": "code",
   "execution_count": null,
   "metadata": {},
   "outputs": [],
   "source": [
    "# Update pip and install seaborn for visualization\n",
    "!python -m pip install -Uq pip\n",
    "!pip install -q seaborn==0.11.1 sagemaker==2.117.0 boot3==1.24.62"
   ]
  }
 ],
 "metadata": {
  "kernelspec": {
   "display_name": "sagemaker",
   "language": "python",
   "name": "python3"
  },
  "language_info": {
   "name": "python",
   "version": "3.10.13"
  }
 },
 "nbformat": 4,
 "nbformat_minor": 2
}
