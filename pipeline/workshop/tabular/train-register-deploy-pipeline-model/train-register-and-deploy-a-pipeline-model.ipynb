{
 "cells": [
  {
   "cell_type": "code",
   "execution_count": 2,
   "metadata": {},
   "outputs": [],
   "source": [
    "import os\n",
    "import time\n",
    "import boto3\n",
    "import numpy as np\n",
    "import pandas as pd\n",
    "import sagemaker\n",
    "from sagemaker import get_execution_role\n",
    "from sagemaker.workflow.pipeline_context import PipelineSession"
   ]
  },
  {
   "cell_type": "code",
   "execution_count": 3,
   "metadata": {},
   "outputs": [],
   "source": [
    "sess = boto3.Session()\n",
    "sm = sess.client(\"sagemaker\")\n",
    "role = get_execution_role()\n",
    "sagemaker_session = sagemaker.Session(boto_session=sess)\n",
    "bucket = sagemaker_session.default_bucket()\n",
    "region = boto3.Session().region_name\n",
    "\n",
    "# print(\"bucket name: \", bucket,\"\\nregion: \", region)\n",
    "\n",
    "pipeline_session = PipelineSession()\n",
    "\n",
    "model_package_group_name = \"PipelineModelPackageGroup\"\n",
    "prefix = \"pipeline-model-example\"\n",
    "pipeline_name = 'serial-inference-pipeline'   # Sagemaker pipeline name\n"
   ]
  },
  {
   "cell_type": "markdown",
   "metadata": {},
   "source": [
    "### Download California Housing dataset and upload to Amazon S3\n",
    "https://www.dcc.fc.up.pt/~ltorgo/Regression/cal_housing.html"
   ]
  },
  {
   "cell_type": "code",
   "execution_count": 4,
   "metadata": {},
   "outputs": [],
   "source": [
    "data_dir = os.path.join(os.getcwd(), \"data\")\n",
    "os.makedirs(data_dir, exist_ok=True)\n",
    "\n",
    "raw_dir = os.path.join(os.getcwd(), \"data/raw\")\n",
    "os.makedirs(raw_dir, exist_ok=True)\n"
   ]
  },
  {
   "cell_type": "code",
   "execution_count": null,
   "metadata": {},
   "outputs": [],
   "source": [
    "# 되기는 되는데 너무 늦음. Hang\n",
    "# s3 = boto3.client(\"s3\")\n",
    "# s3.download_file(\n",
    "#     f\"sagemaker-example-files-prod-{region}\",\n",
    "#     \"datasets/tabular/california_housing/cal_housing.tgz\",\n",
    "#     \"cal_housing2.tgz\",\n",
    "# )"
   ]
  },
  {
   "cell_type": "code",
   "execution_count": 5,
   "metadata": {},
   "outputs": [
    {
     "name": "stdout",
     "output_type": "stream",
     "text": [
      "s3://sagemaker-ap-northeast-2-532805286864/pipeline-model-example/data/raw\n"
     ]
    }
   ],
   "source": [
    "columns = [\n",
    "  \"longitude\",\n",
    "  \"latitude\",\n",
    "  \"housingMedianAge\",\n",
    "  \"totalRooms\",\n",
    "  \"totalBedrooms\",\n",
    "  \"population\",\n",
    "  \"households\",\n",
    "  \"medianIncome\",\n",
    "  \"medianHouseValue\",\n",
    "]\n",
    "cal_housing_df = pd.read_csv(\"CaliforniaHousing/cal_housing.data\", names=columns, header=None)\n",
    "# cal_housing_df.head()\n",
    "cal_housing_df[\n",
    "  \"medianHouseValue\"\n",
    "] /= 500000 # Scaling target down to avoid overcomplicating the example\n",
    "cal_housing_df.to_csv(f\"./data/raw/raw_data_all.csv\", header=True, index=False)\n",
    "rawdata_s3_prefix = \"{}/data/raw\".format(prefix)\n",
    "raw_s3 = sagemaker_session.upload_data(path='./data/raw', key_prefix=rawdata_s3_prefix)\n",
    "print(raw_s3)\n"
   ]
  },
  {
   "cell_type": "markdown",
   "metadata": {},
   "source": [
    "### Define Parameters to Parametrize Pipeline Execution"
   ]
  },
  {
   "cell_type": "markdown",
   "metadata": {},
   "source": [
    "Define Pipeline parameters that you can use to parameterize the pipeline. Parameters enable custom pipeline execution and schedules without having to modify the Pipeline Definition.\n",
    "\n",
    "The supported parameter types include:\n",
    "- ParameterString - represents a str Python type\n",
    "- ParameterInteger \n",
    "- ParameterFloat"
   ]
  },
  {
   "cell_type": "code",
   "execution_count": 6,
   "metadata": {},
   "outputs": [],
   "source": [
    "from sagemaker.workflow.parameters import ParameterInteger, ParameterString, ParameterFloat\n",
    "\n",
    "# raw input data\n",
    "input_data = ParameterString(name=\"InputData\", default_value=raw_s3)\n",
    "\n",
    "# status of newly trained model in regstry\n",
    "model_approval_status = ParameterString(name=\"ModelApprovalStatus\", default_value=\"Approved\")\n",
    "\n",
    "# processing step parameter\n",
    "processing_instance_type = ParameterString(\n",
    "  name=\"ProcessingInstanceType\", default_value=\"ml.m5.xlarge\"\n",
    ")\n",
    "processing_instance_count = ParameterInteger(name=\"ProcessingInstanceCount\", default_value=1)\n",
    "\n",
    "# training step parameters\n",
    "training_instance_type = ParameterString(name=\"TrainingInstanceType\", default_value=\"ml.m5.xlarge\")\n",
    "training_epochs = ParameterString(name=\"TrainingEpochs\", default_value=\"100\")\n",
    "\n",
    "# model performance step Parameter\n",
    "accuracy_mse_threshold = ParameterFloat(name=\"AccuracyMseThreshold\", default_value=0.75)"
   ]
  },
  {
   "cell_type": "markdown",
   "metadata": {},
   "source": [
    "### Define a Processing Step for Feature Engineering\n",
    "the below preprocessing script, in addition to creating a scaler, contains the neccessary functions for it to be deployed as part of a pipeline model"
   ]
  },
  {
   "cell_type": "code",
   "execution_count": 7,
   "metadata": {},
   "outputs": [],
   "source": [
    "!mkdir -p code"
   ]
  },
  {
   "cell_type": "code",
   "execution_count": null,
   "metadata": {},
   "outputs": [],
   "source": [
    "#%%writefilee code/preprocessing.py"
   ]
  },
  {
   "cell_type": "code",
   "execution_count": null,
   "metadata": {},
   "outputs": [],
   "source": [
    "X = cal_housing_df[[\n",
    "  \"longitude\",\n",
    "  \"latitude\",\n",
    "  \"housingMedianAge\",\n",
    "  \"totalBedrooms\",\n",
    "  \"population\",\n",
    "  \"households\",\n",
    "  \"medianIncome\",\n",
    "  \"medianHouseVAlue\"\n",
    "]]"
   ]
  }
 ],
 "metadata": {
  "kernelspec": {
   "display_name": "sagemaker",
   "language": "python",
   "name": "python3"
  },
  "language_info": {
   "codemirror_mode": {
    "name": "ipython",
    "version": 3
   },
   "file_extension": ".py",
   "mimetype": "text/x-python",
   "name": "python",
   "nbconvert_exporter": "python",
   "pygments_lexer": "ipython3",
   "version": "3.10.13"
  }
 },
 "nbformat": 4,
 "nbformat_minor": 2
}
